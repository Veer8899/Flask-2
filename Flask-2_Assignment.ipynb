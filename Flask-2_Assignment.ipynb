{
 "cells": [
  {
   "cell_type": "markdown",
   "id": "ac3eeb2a-0857-4f83-979a-f7a50b540cd7",
   "metadata": {},
   "source": [
    "## Q1. Explain GET and POST methods."
   ]
  },
  {
   "cell_type": "markdown",
   "id": "d0b39da0-e93b-49c4-8013-1e8f3efee818",
   "metadata": {},
   "source": [
    "### GET:\n",
    "#### --> Sending the request itself via url.\n",
    "#### --> It is used to retrieve data from a server. \n",
    "#### --> When a GET request is sent, the data is appended to the URL as query parameters.\n",
    "#### --> GET requests should be used for read-only operations where the data is retrieved from the server."
   ]
  },
  {
   "cell_type": "markdown",
   "id": "08baad91-2653-47fc-9775-c6ec8fb07760",
   "metadata": {},
   "source": [
    "### POST:\n",
    "#### --> Sending the request itself via body.\n",
    "#### --> The POST method is used to send data to a server to create or update a resource.\n",
    "#### --> When a POST request is sent, the data is included in the body of the request rather than the URL.\n",
    "#### --> POST is not idempotent and can have side effects on the server."
   ]
  },
  {
   "cell_type": "markdown",
   "id": "46408483-ff1e-41ba-8704-fcc690efcd9b",
   "metadata": {},
   "source": [
    "## Q2. Why is request used in Flask?"
   ]
  },
  {
   "cell_type": "markdown",
   "id": "f1516f1b-c912-434d-9c31-026c70ec8bab",
   "metadata": {},
   "source": [
    "#### The request object in Flask is used to access incoming request data in a Flask application. It provides access and handle various components of an HTTP request, allowing us to process incoming data, make decisions, and generate appropriate responses based on the client's request. It provides a convenient way to interact with the incoming data and extract relevant information to build dynamic and responsive web applications. The request object allows us to retrieve data from the request headers, form data, query parameters, cookies, and more."
   ]
  },
  {
   "cell_type": "markdown",
   "id": "8ad3641e-11f3-4fa2-811a-64497e1412dd",
   "metadata": {},
   "source": [
    "## Q3. Why is redirect() used in Flask?"
   ]
  },
  {
   "cell_type": "markdown",
   "id": "bc06524d-db18-43c7-b47b-3a277c7f1598",
   "metadata": {},
   "source": [
    "#### Redirect() function in Flask is used to perform URL redirection, allowing us to navigate the client's browser to a different URL or route within our application. It is useful for route redirection, handling form submissions, preventing duplicate submissions, managing authentication and authorization, and maintaining proper URL structure."
   ]
  },
  {
   "cell_type": "markdown",
   "id": "c0c7207c-3359-4118-bb5e-bf952afc6520",
   "metadata": {},
   "source": [
    "## Q4. What are templates in Flask? Why is the render_template() function used?"
   ]
  },
  {
   "cell_type": "markdown",
   "id": "2d90f56d-4ba2-4718-91f8-d7bf8fc3fa64",
   "metadata": {},
   "source": [
    "#### In Flask, templates are files containing HTML code mixed with placeholders and control structures. Templates allow us to separate the presentation logic from the application logic, making it easier to maintain and modify the user interface of our web application."
   ]
  },
  {
   "cell_type": "markdown",
   "id": "eb7625a9-d468-48bb-925b-e47f860b03da",
   "metadata": {},
   "source": [
    "#### The render_template() function is used to render a template file and generate an HTML response that can be sent back to the client's browser. It takes the name of the template file as an argument and can also accept additional keyword arguments to pass data to the template."
   ]
  },
  {
   "cell_type": "markdown",
   "id": "6b3705c7-f284-4f62-9d04-b15ddf02bc66",
   "metadata": {},
   "source": [
    "## Q5. Create a simple API. Use Postman to test it. Attach the screenshot of the output in the Jupyter Notebook."
   ]
  },
  {
   "cell_type": "code",
   "execution_count": null,
   "id": "d24848fd-238e-4f3e-8d16-9989df1953c6",
   "metadata": {},
   "outputs": [
    {
     "name": "stdout",
     "output_type": "stream",
     "text": [
      " * Serving Flask app '__main__'\n",
      " * Debug mode: off\n"
     ]
    },
    {
     "name": "stderr",
     "output_type": "stream",
     "text": [
      "WARNING: This is a development server. Do not use it in a production deployment. Use a production WSGI server instead.\n",
      " * Running on all addresses (0.0.0.0)\n",
      " * Running on http://127.0.0.1:5000\n",
      " * Running on http://172.18.0.9:5000\n",
      "Press CTRL+C to quit\n",
      "172.18.0.2 - - [19/Jun/2023 09:41:01] \"POST /api/greet HTTP/1.1\" 200 -\n",
      "172.18.0.2 - - [19/Jun/2023 09:41:12] \"GET /api/hello HTTP/1.1\" 200 -\n"
     ]
    }
   ],
   "source": [
    "from flask import Flask, jsonify, request\n",
    "\n",
    "app = Flask(__name__)\n",
    "\n",
    "# Define a simple API route\n",
    "@app.route('/api/hello', methods=['GET'])\n",
    "def hello():\n",
    "    return jsonify({'message': 'Hello, World!'})\n",
    "\n",
    "# Define an API route that accepts POST requests\n",
    "@app.route('/api/greet', methods=['POST'])\n",
    "def greet():\n",
    "    name = request.json.get('name')\n",
    "    if name:\n",
    "        return jsonify({'message': f'Hello, {name}!'})\n",
    "    else:\n",
    "        return jsonify({'message': 'Name parameter is missing.'}), 400\n",
    "\n",
    "if __name__ == '__main__':\n",
    "    app.run(host=\"0.0.0.0\")\n",
    "    app.run(debug=True)"
   ]
  },
  {
   "cell_type": "markdown",
   "id": "e45229ba-deb8-4863-bdda-bbe3ea118679",
   "metadata": {},
   "source": [
    "### Postman---GET:"
   ]
  },
  {
   "cell_type": "markdown",
   "id": "0c1a1ec0-984f-48e0-a6d9-7285605c36b8",
   "metadata": {},
   "source": [
    "![Image](1.get.png)\n"
   ]
  },
  {
   "cell_type": "markdown",
   "id": "5e275cf9-b1eb-4f44-bbbc-21e0e310f447",
   "metadata": {},
   "source": [
    "### Output:"
   ]
  },
  {
   "cell_type": "markdown",
   "id": "e420443b-a205-45a7-8827-1e067af30f97",
   "metadata": {},
   "source": [
    "![Image](2.output.png)"
   ]
  },
  {
   "cell_type": "markdown",
   "id": "597cb20d-55b5-425e-a4b2-afb1b75671ab",
   "metadata": {},
   "source": [
    "### POSTMAN- POST:"
   ]
  },
  {
   "cell_type": "markdown",
   "id": "966e26fa-df5e-41bb-868a-f2cac68a9bbf",
   "metadata": {},
   "source": [
    "![Image](post-man.png)"
   ]
  },
  {
   "cell_type": "code",
   "execution_count": null,
   "id": "eb84362d-3c28-4de1-b804-c39bf4f929e0",
   "metadata": {},
   "outputs": [],
   "source": []
  }
 ],
 "metadata": {
  "kernelspec": {
   "display_name": "Python 3 (ipykernel)",
   "language": "python",
   "name": "python3"
  },
  "language_info": {
   "codemirror_mode": {
    "name": "ipython",
    "version": 3
   },
   "file_extension": ".py",
   "mimetype": "text/x-python",
   "name": "python",
   "nbconvert_exporter": "python",
   "pygments_lexer": "ipython3",
   "version": "3.10.8"
  }
 },
 "nbformat": 4,
 "nbformat_minor": 5
}
