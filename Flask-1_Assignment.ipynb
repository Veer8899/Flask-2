{
 "cells": [
  {
   "cell_type": "markdown",
   "id": "16f5fb0d-efb5-4042-8b95-805144416b7e",
   "metadata": {},
   "source": [
    "## Q1. What is Flask Framework? What are the advantages of Flask Framework?"
   ]
  },
  {
   "cell_type": "markdown",
   "id": "ca151b18-e954-4003-8b43-384413d731df",
   "metadata": {},
   "source": [
    "#### Flask is a lightweight and flexible web framework for Python. It is designed to make it easy to build web applications and APIs. Flask is known for its simplicity, minimalism, and extensibility, allowing developers to create web applications quickly and efficiently."
   ]
  },
  {
   "cell_type": "markdown",
   "id": "53e907eb-d36c-4991-8cee-173de1600491",
   "metadata": {},
   "source": [
    "### The advantages of Flask Framework:\n",
    "#### Lightweight and flexible.\n",
    "#### Simplicity and easy to use.\n",
    "#### Extensibility through extensions.\n",
    "#### Flask can handle small to medium-sized applications and can scale to handle larger and more complex projects.\n",
    "#### Flask provides a built-in server for quick testing and debugging during the development process.\n",
    "#### Large community and active development.\n",
    "#### Excellent documentation."
   ]
  },
  {
   "cell_type": "markdown",
   "id": "1fcb69b9-d9d2-4f01-b6a3-ccc781b671e6",
   "metadata": {},
   "source": [
    "## Q2. Create a simple Flask application to display ‘Hello World!!’. Attach the screenshot of the output in Jupyter Notebook."
   ]
  },
  {
   "cell_type": "markdown",
   "id": "86b159cd-6f79-417a-a737-6372b28c89f9",
   "metadata": {},
   "source": [
    "### CODE EXECUTION:"
   ]
  },
  {
   "cell_type": "code",
   "execution_count": null,
   "id": "cce2cef9-c17d-4206-a367-e93225119368",
   "metadata": {},
   "outputs": [
    {
     "name": "stdout",
     "output_type": "stream",
     "text": [
      " * Serving Flask app '__main__'\n",
      " * Debug mode: off\n"
     ]
    },
    {
     "name": "stderr",
     "output_type": "stream",
     "text": [
      "WARNING: This is a development server. Do not use it in a production deployment. Use a production WSGI server instead.\n",
      " * Running on all addresses (0.0.0.0)\n",
      " * Running on http://127.0.0.1:5000\n",
      " * Running on http://172.18.0.16:5000\n",
      "Press CTRL+C to quit\n",
      "172.18.0.2 - - [19/Jun/2023 08:03:20] \"GET / HTTP/1.1\" 200 -\n"
     ]
    }
   ],
   "source": [
    "from flask import Flask\n",
    "\n",
    "app = Flask(__name__)\n",
    "\n",
    "@app.route(\"/\")\n",
    "def hello_world():\n",
    "    return \"<h1>Hello World!!</h1>\"\n",
    "\n",
    "if __name__==\"__main__\":\n",
    "    app.run(host=\"0.0.0.0\")\n"
   ]
  },
  {
   "cell_type": "markdown",
   "id": "9155eff0-8c05-4d24-99e6-78ae513dff78",
   "metadata": {},
   "source": [
    "### OUTPUT:"
   ]
  },
  {
   "cell_type": "markdown",
   "id": "1ddf0426-e97f-4c9a-a2bf-28da4928a5b9",
   "metadata": {},
   "source": [
    "<img src = \"Screenshot 2023-06-19 122009.png\">"
   ]
  },
  {
   "cell_type": "markdown",
   "id": "bf5659e9-d65f-437c-a06e-b65c1edc51a3",
   "metadata": {},
   "source": [
    "## Q3. What is App routing in Flask? Why do we use app routes?"
   ]
  },
  {
   "cell_type": "markdown",
   "id": "5a434892-c367-4f74-806e-6e9eb73ce60c",
   "metadata": {},
   "source": [
    "#### In Flask, app routing refers to the process of mapping URLs to specific functions or views within a web application. It allows us to define different routes within our Flask application and associate them with corresponding functions that will handle the logic and generate the response for each route.\n",
    "### We use app routes for several purposes:\n",
    "#### >>URL handling\n",
    "#### >>Endpoint mapping\n",
    "#### >>Request handling\n",
    "#### >>Code organization\n",
    "#### >>Dynamic URL generation"
   ]
  },
  {
   "cell_type": "markdown",
   "id": "24162498-681b-4fe4-91d4-3aaf309fa674",
   "metadata": {},
   "source": [
    "## Q4. Create a “/welcome” route to display the welcome message “Welcome to ABC Corporation” and a “/”\n",
    "## route to show the following details:\n",
    "## Company Name: ABC Corporation\n",
    "## Location: India\n",
    "## Contact Detail: 999-999-9999"
   ]
  },
  {
   "cell_type": "markdown",
   "id": "a5884939-abd2-4234-9abf-f8fcbdd39029",
   "metadata": {},
   "source": [
    "### >>CODE EXECUTION: "
   ]
  },
  {
   "cell_type": "code",
   "execution_count": 1,
   "id": "438fb3c2-f687-4721-bfec-38436bead24b",
   "metadata": {},
   "outputs": [
    {
     "name": "stdout",
     "output_type": "stream",
     "text": [
      " * Serving Flask app '__main__'\n",
      " * Debug mode: off\n"
     ]
    },
    {
     "name": "stderr",
     "output_type": "stream",
     "text": [
      "WARNING: This is a development server. Do not use it in a production deployment. Use a production WSGI server instead.\n",
      " * Running on all addresses (0.0.0.0)\n",
      " * Running on http://127.0.0.1:5000\n",
      " * Running on http://172.18.0.16:5000\n",
      "Press CTRL+C to quit\n",
      "172.18.0.2 - - [19/Jun/2023 08:02:12] \"GET / HTTP/1.1\" 200 -\n",
      "172.18.0.2 - - [19/Jun/2023 08:02:22] \"GET /welcome HTTP/1.1\" 200 -\n"
     ]
    }
   ],
   "source": [
    "from flask import Flask\n",
    "\n",
    "app = Flask(__name__)\n",
    "\n",
    "@app.route(\"/welcome\")\n",
    "def hello_world():\n",
    "    return \"<h1><b>Welcome to ABC Corporation</h1>\"\n",
    "\n",
    "@app.route(\"/\")\n",
    "def ABC():\n",
    "    return \"\"\"<b>Company Name: ABC Corporation<br>\n",
    "    Location: India<br>\n",
    "    Contact Detail: 999-999-9999\"\"\"\n",
    "\n",
    "if __name__==\"__main__\":\n",
    "    app.run(host=\"0.0.0.0\")\n"
   ]
  },
  {
   "cell_type": "markdown",
   "id": "04d7798e-8077-49a4-bd6d-59d0086c126d",
   "metadata": {},
   "source": [
    "### >>OUTPUT-1 FOR “/welcome” route"
   ]
  },
  {
   "cell_type": "markdown",
   "id": "bbe22112-3a0f-43ed-9c72-0bc0567142b5",
   "metadata": {},
   "source": [
    "<IMG SRC = \"abc1.png\">"
   ]
  },
  {
   "cell_type": "markdown",
   "id": "691d9dc1-499e-44dc-8168-80fa179e9f2a",
   "metadata": {},
   "source": [
    "### >>OUTPUT-2 FOR a “/” route"
   ]
  },
  {
   "cell_type": "markdown",
   "id": "f396e0a8-91af-4516-9319-34ae9da9eb82",
   "metadata": {},
   "source": [
    "<IMG SRC=\"ABC2.png\">"
   ]
  },
  {
   "cell_type": "markdown",
   "id": "44db7f53-3f23-4d4e-8e81-c03473a995f2",
   "metadata": {},
   "source": [
    "## Q5. What function is used in Flask for URL Building? Write a Python code to demonstrate the working of the url_for() function."
   ]
  },
  {
   "cell_type": "markdown",
   "id": "d916fd17-5266-4df3-9876-e3d4b9926723",
   "metadata": {},
   "source": [
    "#### \"url_for()\" function is used in Flask for URL Building."
   ]
  },
  {
   "cell_type": "code",
   "execution_count": 1,
   "id": "fe61bcb3-2539-40e8-8232-7e97022f57b1",
   "metadata": {},
   "outputs": [
    {
     "name": "stdout",
     "output_type": "stream",
     "text": [
      " * Serving Flask app '__main__'\n",
      " * Debug mode: off\n"
     ]
    },
    {
     "name": "stderr",
     "output_type": "stream",
     "text": [
      "WARNING: This is a development server. Do not use it in a production deployment. Use a production WSGI server instead.\n",
      " * Running on all addresses (0.0.0.0)\n",
      " * Running on http://127.0.0.1:5000\n",
      " * Running on http://172.18.0.16:5000\n",
      "Press CTRL+C to quit\n",
      "172.18.0.2 - - [19/Jun/2023 08:01:48] \"GET / HTTP/1.1\" 200 -\n"
     ]
    },
    {
     "name": "stdout",
     "output_type": "stream",
     "text": [
      "Home URL: /\n",
      "About URL: /about\n",
      "User Profile URL: /user/raj\n",
      "Admin URL: /admin\n"
     ]
    }
   ],
   "source": [
    "from flask import Flask, url_for\n",
    "\n",
    "app = Flask(__name__)\n",
    "\n",
    "@app.route('/')\n",
    "def home():\n",
    "    return 'Home Page'\n",
    "\n",
    "@app.route('/about')\n",
    "def about():\n",
    "    return 'About Page'\n",
    "\n",
    "@app.route('/user/<username>')\n",
    "def user_profile(username):\n",
    "    return f'User Profile: {username}'\n",
    "\n",
    "@app.route('/admin')\n",
    "def admin():\n",
    "    return 'Admin Page'\n",
    "\n",
    "if __name__ == '__main__':\n",
    "    app.run(host=\"0.0.0.0\")\n",
    "    with app.test_request_context():\n",
    "        # Generate URLs using url_for()\n",
    "        home_url = url_for('home')\n",
    "        about_url = url_for('about')\n",
    "        user_url = url_for('user_profile', username='raj')\n",
    "        admin_url = url_for('admin')\n",
    "\n",
    "    # Print the generated URLs\n",
    "    print(\"Home URL:\", home_url)\n",
    "    print(\"About URL:\", about_url)\n",
    "    print(\"User Profile URL:\", user_url)\n",
    "    print(\"Admin URL:\", admin_url)\n"
   ]
  },
  {
   "cell_type": "code",
   "execution_count": null,
   "id": "522f3fa2-dbff-42be-8922-0de44aace5cf",
   "metadata": {},
   "outputs": [],
   "source": []
  }
 ],
 "metadata": {
  "kernelspec": {
   "display_name": "Python 3 (ipykernel)",
   "language": "python",
   "name": "python3"
  },
  "language_info": {
   "codemirror_mode": {
    "name": "ipython",
    "version": 3
   },
   "file_extension": ".py",
   "mimetype": "text/x-python",
   "name": "python",
   "nbconvert_exporter": "python",
   "pygments_lexer": "ipython3",
   "version": "3.10.8"
  }
 },
 "nbformat": 4,
 "nbformat_minor": 5
}
